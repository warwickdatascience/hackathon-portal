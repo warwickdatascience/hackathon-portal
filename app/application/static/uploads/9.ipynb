{
 "cells": [
  {
   "cell_type": "code",
   "execution_count": 137,
   "metadata": {},
   "outputs": [
    {
     "name": "stdout",
     "output_type": "stream",
     "text": [
      "0.026868865092944977\n"
     ]
    }
   ],
   "source": [
    "import pandas as pd\n",
    "\n",
    "ground_truth = pd.read_csv(\"gt.csv\")\n",
    "user = pd.read_csv(\"null.csv\")\n",
    "x = user.join(ground_truth, how=\"right\", lsuffix=\"lad_code\", rsuffix=\"lad_code\")\n",
    "a = x[\"imd_2019lad_code\"]\n",
    "rmse = ((a.iloc[:,0] - a.iloc[:,1]) ** 2).mean() ** .5\n",
    "# print(f'score: {(1-rmse)*100:.2f}%')\n",
    "print(rmse)"
   ]
  },
  {
   "cell_type": "code",
   "execution_count": 140,
   "metadata": {},
   "outputs": [
    {
     "name": "stdout",
     "output_type": "stream",
     "text": [
      "Column names are lad_code, lad_name, imd_2015, imd_2019\n",
      "Processed 78 lines.\n",
      "Column names are lad_code, lad_name, imd_2015, imd_2019\n",
      "Processed 78 lines.\n"
     ]
    }
   ],
   "source": [
    "import csv\n",
    "truth = {}\n",
    "user = {}\n",
    "with open('gt.csv') as csv_file:\n",
    "    csv_reader = csv.reader(csv_file, delimiter=',')\n",
    "    line_count = 0\n",
    "    for row in csv_reader:\n",
    "        if line_count == 0:\n",
    "            print(f'Column names are {\", \".join(row)}')\n",
    "            line_count += 1\n",
    "        else:\n",
    "            truth[row[0]] = row[3]\n",
    "#             print(f'\\t{row[0]} works in the {row[1]} department, and was born in {row[2]}.')\n",
    "            line_count += 1\n",
    "    print(f'Processed {line_count} lines.')\n",
    "\n",
    "with open('null.csv') as csv_file:\n",
    "    csv_reader = csv.reader(csv_file, delimiter=',')\n",
    "    line_count = 0\n",
    "    for row in csv_reader:\n",
    "        if line_count == 0:\n",
    "            print(f'Column names are {\", \".join(row)}')\n",
    "            line_count += 1\n",
    "        else:\n",
    "            if row[0] in truth.keys():\n",
    "                user[row[0]] = row[3]\n",
    "#             print(f'\\t{row[0]} works in the {row[1]} department, and was born in {row[2]}.')\n",
    "            line_count += 1\n",
    "    print(f'Processed {line_count} lines.')"
   ]
  },
  {
   "cell_type": "code",
   "execution_count": 141,
   "metadata": {},
   "outputs": [
    {
     "name": "stdout",
     "output_type": "stream",
     "text": [
      "0.02686886509294498\n"
     ]
    }
   ],
   "source": [
    "rmse = 0\n",
    "for i in truth.keys():\n",
    "    rmse += (float(truth[i]) - float(user[i])) ** 2 \n",
    "rmse = rmse / len(truth)\n",
    "rmse = rmse ** .5\n",
    "print(rmse)"
   ]
  },
  {
   "cell_type": "code",
   "execution_count": null,
   "metadata": {},
   "outputs": [],
   "source": []
  }
 ],
 "metadata": {
  "kernelspec": {
   "display_name": "Python 3",
   "language": "python",
   "name": "python3"
  },
  "language_info": {
   "codemirror_mode": {
    "name": "ipython",
    "version": 3
   },
   "file_extension": ".py",
   "mimetype": "text/x-python",
   "name": "python",
   "nbconvert_exporter": "python",
   "pygments_lexer": "ipython3",
   "version": "3.6.4"
  }
 },
 "nbformat": 4,
 "nbformat_minor": 2
}
